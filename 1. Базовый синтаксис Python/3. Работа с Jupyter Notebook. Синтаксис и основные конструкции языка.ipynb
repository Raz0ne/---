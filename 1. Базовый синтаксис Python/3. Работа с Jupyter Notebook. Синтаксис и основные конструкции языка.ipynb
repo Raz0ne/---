{
 "cells": [
  {
   "cell_type": "markdown",
   "id": "560d9c43-7f03-4089-bec3-fe2e30eaefe6",
   "metadata": {},
   "source": [
    "## Комментарии"
   ]
  },
  {
   "cell_type": "code",
   "execution_count": 1,
   "id": "c8963811-fa5d-4aec-90b7-a0be3311ac13",
   "metadata": {},
   "outputs": [],
   "source": [
    "# это первый комментарий\n",
    "spam = 1  # а это второй комментарий\n",
    "# ... а сейчас третий!\n",
    "text = \"# Это не комментарий, потому что он внутри кавычек.\"\n",
    "\n",
    "# CTRL + /"
   ]
  },
  {
   "cell_type": "markdown",
   "id": "39b20803-9c83-4358-bc11-3b277b5a19fc",
   "metadata": {},
   "source": [
    "## Вывод данных"
   ]
  },
  {
   "cell_type": "code",
   "execution_count": 2,
   "id": "5e651f1f-1a54-45cd-b5c2-76831dea1a4c",
   "metadata": {},
   "outputs": [
    {
     "name": "stdout",
     "output_type": "stream",
     "text": [
      "Всем привет!\n",
      "A B C\n",
      "A!B!C\n"
     ]
    }
   ],
   "source": [
    "print(\"Всем привет!\")\n",
    "print(\"A\", \"B\", \"C\")\n",
    "print(\"A\", \"B\", \"C\", sep=\"!\")"
   ]
  },
  {
   "cell_type": "markdown",
   "id": "2bc91275-5e8b-4a7c-b19d-42f75e690f07",
   "metadata": {},
   "source": [
    "## Числа"
   ]
  },
  {
   "cell_type": "code",
   "execution_count": 5,
   "id": "44049209-ef85-46af-b322-dc762dcaa672",
   "metadata": {},
   "outputs": [
    {
     "data": {
      "text/plain": [
       "4"
      ]
     },
     "execution_count": 5,
     "metadata": {},
     "output_type": "execute_result"
    }
   ],
   "source": [
    "2 + 2"
   ]
  },
  {
   "cell_type": "code",
   "execution_count": 6,
   "id": "0f849977-326c-45d4-b4ee-65e9d52729ba",
   "metadata": {},
   "outputs": [
    {
     "data": {
      "text/plain": [
       "20"
      ]
     },
     "execution_count": 6,
     "metadata": {},
     "output_type": "execute_result"
    }
   ],
   "source": [
    "50 - 5 * 6"
   ]
  },
  {
   "cell_type": "code",
   "execution_count": 7,
   "id": "7aa14a0a-4cee-4af4-80ea-0b4475641e27",
   "metadata": {},
   "outputs": [
    {
     "data": {
      "text/plain": [
       "5.0"
      ]
     },
     "execution_count": 7,
     "metadata": {},
     "output_type": "execute_result"
    }
   ],
   "source": [
    "(50 - 5 * 6) / 4"
   ]
  },
  {
   "cell_type": "code",
   "execution_count": 8,
   "id": "3903c4f5-36cb-4cab-a8c9-6fc7ae3a8e3b",
   "metadata": {},
   "outputs": [
    {
     "data": {
      "text/plain": [
       "1.6"
      ]
     },
     "execution_count": 8,
     "metadata": {},
     "output_type": "execute_result"
    }
   ],
   "source": [
    "8 / 5  # деление всегда возвращает число с плавающей точкой"
   ]
  },
  {
   "cell_type": "markdown",
   "id": "f7dd26b2-7808-4784-ad67-2b7426e57400",
   "metadata": {},
   "source": [
    "Целые числа (например, 2, 4, 20) имеют тип int, т.е., что с дробной частью, (e.g. 5.0, 1.6) имеют тип float."
   ]
  },
  {
   "cell_type": "markdown",
   "id": "d9f1f208-69c3-4257-adf2-4509cea4fe70",
   "metadata": {},
   "source": [
    "Деление (/) в третьем питоне всегда возвращает float (во втором питоне деление целого числа на целое даёт целочисленное деление)."
   ]
  },
  {
   "cell_type": "markdown",
   "id": "1e762c5c-4b27-4144-a402-d5f9caf2cf1b",
   "metadata": {},
   "source": [
    "// - оператор для целочисленного деление (без дробной части);"
   ]
  },
  {
   "cell_type": "markdown",
   "id": "6c2ee69d-b97d-421f-99c8-2187852942a7",
   "metadata": {},
   "source": [
    "% - расчёт остатка от деления;"
   ]
  },
  {
   "cell_type": "code",
   "execution_count": 9,
   "id": "2912319d-34b6-478e-8f81-4937f6d51519",
   "metadata": {},
   "outputs": [
    {
     "data": {
      "text/plain": [
       "5"
      ]
     },
     "execution_count": 9,
     "metadata": {},
     "output_type": "execute_result"
    }
   ],
   "source": [
    "17 // 3"
   ]
  },
  {
   "cell_type": "code",
   "execution_count": 10,
   "id": "e7ad0a21-2917-4ba1-8938-a8fbfd16fa5f",
   "metadata": {},
   "outputs": [
    {
     "data": {
      "text/plain": [
       "2"
      ]
     },
     "execution_count": 10,
     "metadata": {},
     "output_type": "execute_result"
    }
   ],
   "source": [
    "17 % 3"
   ]
  },
  {
   "cell_type": "code",
   "execution_count": 11,
   "id": "814e53ea-c4c0-4460-b0fa-a4f77cb2fe7c",
   "metadata": {},
   "outputs": [
    {
     "data": {
      "text/plain": [
       "25"
      ]
     },
     "execution_count": 11,
     "metadata": {},
     "output_type": "execute_result"
    }
   ],
   "source": [
    "5 ** 2 # возведение в степень"
   ]
  },
  {
   "cell_type": "markdown",
   "id": "8cf5b879-8816-47ae-a98a-1ec83ee09211",
   "metadata": {},
   "source": [
    "Знак равенства (=) используется для присвоения значения переменной."
   ]
  },
  {
   "cell_type": "code",
   "execution_count": 12,
   "id": "62555595-78bc-47b1-815a-98f91f35f8f6",
   "metadata": {},
   "outputs": [
    {
     "data": {
      "text/plain": [
       "600"
      ]
     },
     "execution_count": 12,
     "metadata": {},
     "output_type": "execute_result"
    }
   ],
   "source": [
    "width = 20\n",
    "height = 30\n",
    "S = width * height\n",
    "S"
   ]
  },
  {
   "cell_type": "markdown",
   "id": "e44f9e71-8362-4cef-899f-4e539522998b",
   "metadata": {},
   "source": [
    "Присутствует полная поддержка операций с плавающей точкой;"
   ]
  },
  {
   "cell_type": "markdown",
   "id": "434fc61b-ec49-4f8f-9ac6-62907d73ad6d",
   "metadata": {},
   "source": [
    "Операции над операндами смешанного типа конвертируют целочисленный операнд в число с плавающей запятой:"
   ]
  },
  {
   "cell_type": "code",
   "execution_count": 13,
   "id": "fba6a3a7-bbd6-489b-90ca-851844c40e19",
   "metadata": {},
   "outputs": [
    {
     "data": {
      "text/plain": [
       "7.5"
      ]
     },
     "execution_count": 13,
     "metadata": {},
     "output_type": "execute_result"
    }
   ],
   "source": [
    "3 * 3.75 / 1.5"
   ]
  },
  {
   "cell_type": "markdown",
   "id": "6c47b877-c434-4367-a5c7-d2b32bfd8451",
   "metadata": {},
   "source": [
    "## Строки"
   ]
  },
  {
   "cell_type": "markdown",
   "id": "09dbea90-1eef-484c-87e5-7786477490dc",
   "metadata": {},
   "source": [
    "Помимо чисел, Python может работать со строками, которые в свою очередь, могут быть описаны различными способами."
   ]
  },
  {
   "cell_type": "markdown",
   "id": "48ffddb2-c8ab-46e6-ba09-be1dee8740d7",
   "metadata": {},
   "source": [
    "Строки могут быть заключены в одинарные ('...') или двойные кавычки(\"...\"), без разницы;"
   ]
  },
  {
   "cell_type": "markdown",
   "id": "651016fc-d28a-493a-b3e2-9b645651b81f",
   "metadata": {},
   "source": [
    "\\ может быть использован для экранирования кавычек:"
   ]
  },
  {
   "cell_type": "code",
   "execution_count": 14,
   "id": "a600c441-49ec-4e45-bbe3-e9635df28c3b",
   "metadata": {},
   "outputs": [
    {
     "name": "stdout",
     "output_type": "stream",
     "text": [
      "spam eggs\n",
      "doesn't\n",
      "doesn't\n",
      "\"Yes,\" he said.\n"
     ]
    }
   ],
   "source": [
    "print('spam eggs')\n",
    "print('doesn\\'t')\n",
    "print(\"doesn't\")\n",
    "print('\"Yes,\" he said.')"
   ]
  },
  {
   "cell_type": "markdown",
   "id": "69cd885a-88a6-4222-8763-bdb78663e249",
   "metadata": {},
   "source": [
    "Строковые литералы могут занимать несколько строк. Один из способов сделать это - тройные кавычки: \"\"\"...\"\"\" или '''...'''. Концы строк автоматически включаются в строку, но возможно избежать этого добавлением \\ в конце строки. Следующий пример:"
   ]
  },
  {
   "cell_type": "code",
   "execution_count": 15,
   "id": "3d24ca4e-2184-41cc-ad40-8fafd0c65c0d",
   "metadata": {},
   "outputs": [
    {
     "name": "stdout",
     "output_type": "stream",
     "text": [
      "\n",
      "Usage: thingy [OPTIONS]\n",
      "    -h                            Display this usage message\n",
      "    -H hostname                   Hostname to connect to\n",
      "\n"
     ]
    }
   ],
   "source": [
    "print(\"\"\"\n",
    "Usage: thingy [OPTIONS]\n",
    "    -h                            Display this usage message\n",
    "    -H hostname                   Hostname to connect to\n",
    "\"\"\")"
   ]
  },
  {
   "cell_type": "code",
   "execution_count": 16,
   "id": "8b27378e-6781-4a4c-9b01-cb6c7b9dc0de",
   "metadata": {},
   "outputs": [
    {
     "name": "stdout",
     "output_type": "stream",
     "text": [
      "Usage: thingy [OPTIONS]\n",
      "    -h                            Display this usage message\n",
      "    -H hostname                   Hostname to connect to \n"
     ]
    }
   ],
   "source": [
    "print(\"\"\"\\\n",
    "Usage: thingy [OPTIONS]\n",
    "    -h                            Display this usage message\n",
    "    -H hostname                   Hostname to connect to \\\n",
    "\"\"\")"
   ]
  },
  {
   "cell_type": "markdown",
   "id": "4ec2745f-4c08-404d-a5f6-ed6f28ea6500",
   "metadata": {},
   "source": [
    "Строки могут быть конкатенированы (соединены вместе) с помощью оператора +, и повторены с помощью *:"
   ]
  },
  {
   "cell_type": "code",
   "execution_count": 17,
   "id": "e87c099e-d5e0-409f-8bb2-758711f0ccf6",
   "metadata": {},
   "outputs": [
    {
     "data": {
      "text/plain": [
       "'unununium'"
      ]
     },
     "execution_count": 17,
     "metadata": {},
     "output_type": "execute_result"
    }
   ],
   "source": [
    "3 * 'un' + 'ium'"
   ]
  },
  {
   "cell_type": "code",
   "execution_count": 18,
   "id": "b71ef0fe-6d6e-4f2e-bb2d-d101e0200718",
   "metadata": {},
   "outputs": [],
   "source": [
    "a = 'Vasya'"
   ]
  },
  {
   "cell_type": "code",
   "execution_count": 19,
   "id": "cc1579a7-f746-4052-8b6f-fa4b508e00d3",
   "metadata": {},
   "outputs": [
    {
     "name": "stdout",
     "output_type": "stream",
     "text": [
      "Hello, Vasya, Kostya!\n",
      "a, c, b\n"
     ]
    }
   ],
   "source": [
    "print('Hello, {}, {}!'.format(a, 'Kostya'))\n",
    "print('{0}, {2}, {1}'.format('a', 'b', 'c'))"
   ]
  },
  {
   "cell_type": "markdown",
   "id": "2d86bbff-d588-4adb-a230-1fd1a4f0db6a",
   "metadata": {},
   "source": [
    "## Условные операторы"
   ]
  },
  {
   "cell_type": "code",
   "execution_count": 20,
   "id": "b68c4362-a1c8-480f-b7ec-5454fda11722",
   "metadata": {},
   "outputs": [
    {
     "name": "stdout",
     "output_type": "stream",
     "text": [
      "L\n"
     ]
    }
   ],
   "source": [
    "a = 1\n",
    "if a > 2:\n",
    "    print('H')\n",
    "else:\n",
    "    print('L')"
   ]
  },
  {
   "cell_type": "code",
   "execution_count": 21,
   "id": "8ffa1a97-5309-4cb2-975e-ea9990ffcea7",
   "metadata": {},
   "outputs": [
    {
     "name": "stdin",
     "output_type": "stream",
     "text": [
      "введите число: 10\n"
     ]
    },
    {
     "name": "stdout",
     "output_type": "stream",
     "text": [
      "Pos\n"
     ]
    }
   ],
   "source": [
    "a = int(input('введите число:'))\n",
    "if a < 0:\n",
    "    print('Neg')\n",
    "elif a == 0:\n",
    "    print('Zero')\n",
    "else:\n",
    "    print('Pos')"
   ]
  },
  {
   "cell_type": "markdown",
   "id": "69c52662-88ba-4088-b986-ef85620452c8",
   "metadata": {},
   "source": [
    "## Операторы цикла"
   ]
  },
  {
   "cell_type": "markdown",
   "id": "e4bd7093-603c-41ae-9d28-3ad2767f4835",
   "metadata": {},
   "source": [
    "Оператор цикла while выполняет указанный набор инструкций до тех пор, пока условие цикла истинно."
   ]
  },
  {
   "cell_type": "code",
   "execution_count": 22,
   "id": "624fee62-2ba8-427a-8a36-9f8a4facd1e4",
   "metadata": {},
   "outputs": [
    {
     "name": "stdout",
     "output_type": "stream",
     "text": [
      "0\n",
      "1\n",
      "2\n"
     ]
    }
   ],
   "source": [
    "a = 0\n",
    "while a < 3:\n",
    "    print(a)\n",
    "    a += 1"
   ]
  },
  {
   "cell_type": "markdown",
   "id": "50e6e601-553c-48f6-80e2-67c5da8c1846",
   "metadata": {},
   "source": [
    "Оператор **break** предназначен для досрочного прерывания работы цикла while."
   ]
  },
  {
   "cell_type": "code",
   "execution_count": 23,
   "id": "e4c023e0-2b1f-458f-9ff1-b1274f621539",
   "metadata": {},
   "outputs": [
    {
     "name": "stdout",
     "output_type": "stream",
     "text": [
      "1\n",
      "2\n",
      "3\n"
     ]
    }
   ],
   "source": [
    "a = 0\n",
    "while a >= 0:\n",
    "    if a == 3:\n",
    "        break\n",
    "    a += 1\n",
    "    print(a)"
   ]
  },
  {
   "cell_type": "markdown",
   "id": "db0b4a52-1298-4028-b456-1de87b5b9ff3",
   "metadata": {},
   "source": [
    "Оператор **continue** запускает цикл заново, при этом код, расположенный после данного оператора, не выполняется."
   ]
  },
  {
   "cell_type": "code",
   "execution_count": 24,
   "id": "fa08f7d3-cbd1-444c-afec-834f20e8855d",
   "metadata": {},
   "outputs": [
    {
     "name": "stdout",
     "output_type": "stream",
     "text": [
      "A\n",
      "A\n",
      "A\n",
      "A\n",
      "A\n",
      "A\n",
      "A\n"
     ]
    }
   ],
   "source": [
    "a = -1\n",
    "while a < 10:\n",
    "    a += 1\n",
    "    if a >= 7:\n",
    "        continue\n",
    "    print('A')"
   ]
  },
  {
   "cell_type": "markdown",
   "id": "ce759b5e-cbd5-488f-b1b7-6ae2cfb44f7e",
   "metadata": {},
   "source": [
    "Оператор **for** выолняет указанный набор инструкций заданное количество раз, которое определяется количеством элементов в наборе."
   ]
  },
  {
   "cell_type": "code",
   "execution_count": 25,
   "id": "9b92d4f1-ffad-4a6b-a061-7254bb2222da",
   "metadata": {},
   "outputs": [
    {
     "name": "stdout",
     "output_type": "stream",
     "text": [
      "Hello\n",
      "0\n",
      "Hello\n",
      "1\n",
      "Hello\n",
      "2\n",
      "Hello\n",
      "3\n",
      "Hello\n",
      "4\n",
      "Hello\n",
      "5\n",
      "Hello\n",
      "6\n",
      "Hello\n",
      "7\n",
      "Hello\n",
      "8\n",
      "Hello\n",
      "9\n"
     ]
    }
   ],
   "source": [
    "for i in range(10):\n",
    "    print('Hello')\n",
    "    print(i)"
   ]
  },
  {
   "cell_type": "markdown",
   "id": "4f069b74-b4ae-495c-84d5-2216d8a560df",
   "metadata": {},
   "source": [
    "## Модель данных"
   ]
  },
  {
   "cell_type": "code",
   "execution_count": 26,
   "id": "abbdeade-9709-4682-97fb-60f030a1568d",
   "metadata": {},
   "outputs": [],
   "source": [
    "a = 4\n",
    "b = 4"
   ]
  },
  {
   "cell_type": "code",
   "execution_count": 27,
   "id": "83c3c27c-b858-4d20-af73-c898550a902d",
   "metadata": {},
   "outputs": [
    {
     "data": {
      "text/plain": [
       "140722672604040"
      ]
     },
     "execution_count": 27,
     "metadata": {},
     "output_type": "execute_result"
    }
   ],
   "source": [
    "id(a)"
   ]
  },
  {
   "cell_type": "code",
   "execution_count": 28,
   "id": "fb741676-4102-4777-883a-cbc0ff2766e2",
   "metadata": {},
   "outputs": [
    {
     "data": {
      "text/plain": [
       "140722672604040"
      ]
     },
     "execution_count": 28,
     "metadata": {},
     "output_type": "execute_result"
    }
   ],
   "source": [
    "id(b)"
   ]
  },
  {
   "cell_type": "code",
   "execution_count": 29,
   "id": "363143c1-3394-40cf-a80d-63b9e03cfbcd",
   "metadata": {},
   "outputs": [
    {
     "data": {
      "text/plain": [
       "True"
      ]
     },
     "execution_count": 29,
     "metadata": {},
     "output_type": "execute_result"
    }
   ],
   "source": [
    "a == b"
   ]
  },
  {
   "cell_type": "code",
   "execution_count": 30,
   "id": "4b8864b6-32b0-4c1f-bbec-d980927263c9",
   "metadata": {},
   "outputs": [
    {
     "data": {
      "text/plain": [
       "True"
      ]
     },
     "execution_count": 30,
     "metadata": {},
     "output_type": "execute_result"
    }
   ],
   "source": [
    "a is b"
   ]
  },
  {
   "cell_type": "markdown",
   "id": "1408385e-46e2-42de-b48f-67ce249a9b5a",
   "metadata": {},
   "source": [
    "Рассмотрим другой пример."
   ]
  },
  {
   "cell_type": "code",
   "execution_count": 31,
   "id": "1c2560f6-cd1a-4e7b-8b5b-790b3aad466c",
   "metadata": {},
   "outputs": [],
   "source": [
    "c = [1, 2, 3]\n",
    "d = [1, 2, 3]"
   ]
  },
  {
   "cell_type": "code",
   "execution_count": 32,
   "id": "8d324d11-1c22-43f2-b18e-02b0948b428a",
   "metadata": {},
   "outputs": [
    {
     "data": {
      "text/plain": [
       "1902830210752"
      ]
     },
     "execution_count": 32,
     "metadata": {},
     "output_type": "execute_result"
    }
   ],
   "source": [
    "id(c)"
   ]
  },
  {
   "cell_type": "code",
   "execution_count": 33,
   "id": "3e383087-0b6a-4412-8554-714a915f2320",
   "metadata": {},
   "outputs": [
    {
     "data": {
      "text/plain": [
       "1902830372352"
      ]
     },
     "execution_count": 33,
     "metadata": {},
     "output_type": "execute_result"
    }
   ],
   "source": [
    "id(d)"
   ]
  },
  {
   "cell_type": "code",
   "execution_count": 34,
   "id": "ffc87d56-fe88-466a-877c-afc7e2ef3601",
   "metadata": {},
   "outputs": [
    {
     "data": {
      "text/plain": [
       "True"
      ]
     },
     "execution_count": 34,
     "metadata": {},
     "output_type": "execute_result"
    }
   ],
   "source": [
    "c == d"
   ]
  },
  {
   "cell_type": "code",
   "execution_count": 35,
   "id": "c165fa52-a79b-45e5-89c5-4c8f99355721",
   "metadata": {},
   "outputs": [
    {
     "data": {
      "text/plain": [
       "False"
      ]
     },
     "execution_count": 35,
     "metadata": {},
     "output_type": "execute_result"
    }
   ],
   "source": [
    "c is d"
   ]
  },
  {
   "cell_type": "markdown",
   "id": "3a492ce0-edf5-4ca9-be67-6a22275c14e6",
   "metadata": {},
   "source": [
    "Почему так происходит?"
   ]
  },
  {
   "cell_type": "markdown",
   "id": "f7026888-f54f-44f5-978f-037bd406fdbe",
   "metadata": {},
   "source": [
    "## Списки"
   ]
  },
  {
   "cell_type": "code",
   "execution_count": 36,
   "id": "a047d293-3bc0-43e5-8c8d-e61d94054604",
   "metadata": {},
   "outputs": [],
   "source": [
    "a = []\n",
    "b = list()\n",
    "c = [1, 2, 3]"
   ]
  },
  {
   "cell_type": "code",
   "execution_count": 38,
   "id": "af358b30-a41b-4160-9546-272791df654a",
   "metadata": {},
   "outputs": [
    {
     "name": "stdout",
     "output_type": "stream",
     "text": [
      "[1, 10, 5, 15]\n",
      "[1, 10, 5, 15]\n"
     ]
    }
   ],
   "source": [
    "a = [1, 3, 5, 7]\n",
    "b = a\n",
    "b[3] = 15\n",
    "a[1] = 10\n",
    "print(a)\n",
    "print(b)"
   ]
  },
  {
   "cell_type": "code",
   "execution_count": 39,
   "id": "a60b06dc-7396-43c1-a372-ecacb63392c1",
   "metadata": {},
   "outputs": [
    {
     "data": {
      "text/plain": [
       "[3, 3, 'hello']"
      ]
     },
     "execution_count": 39,
     "metadata": {},
     "output_type": "execute_result"
    }
   ],
   "source": [
    "# Добавление элементов в список\n",
    "a = []\n",
    "a.append(3)\n",
    "a.append(3)\n",
    "a.append('hello')\n",
    "a"
   ]
  },
  {
   "cell_type": "code",
   "execution_count": 40,
   "id": "938f1dc5-3b1e-4da5-8099-d7d5ac4f9739",
   "metadata": {},
   "outputs": [
    {
     "name": "stdout",
     "output_type": "stream",
     "text": [
      "[3, 'hello']\n",
      "['hello']\n"
     ]
    }
   ],
   "source": [
    "# Удаление элементов\n",
    "\n",
    "a.remove(3)\n",
    "print(a)\n",
    "\n",
    "del a[0]\n",
    "print(a)"
   ]
  },
  {
   "cell_type": "code",
   "execution_count": 41,
   "id": "ace8bb24-ddba-4672-8319-cfa92f6c595f",
   "metadata": {},
   "outputs": [
    {
     "name": "stdout",
     "output_type": "stream",
     "text": [
      "7\n",
      "0\n",
      "[5, 7, 10]\n"
     ]
    }
   ],
   "source": [
    "# Доступ к элементам списка\n",
    "a = [3, 5, 7, 10, 3, 2, 6, 0]\n",
    "print(a[2])\n",
    "print(a[-1])\n",
    "print(a[1:4])"
   ]
  },
  {
   "cell_type": "code",
   "execution_count": 42,
   "id": "8be398c7-7241-41ed-8343-aeb3884dabb7",
   "metadata": {},
   "outputs": [
    {
     "name": "stdout",
     "output_type": "stream",
     "text": [
      "[1, 2, 3]\n",
      "[1, 2, [3, 4]]\n",
      "[1, 2, 3, 4]\n"
     ]
    }
   ],
   "source": [
    "# Методы списков\n",
    "# Для удобного воспроизведения есть шорткат ctrl+shift+-\n",
    "a = [1, 2]\n",
    "a.append(3)\n",
    "print(a)\n",
    "\n",
    "a = [1, 2]\n",
    "b = [3, 4]\n",
    "a.append(b)\n",
    "print(a)\n",
    "\n",
    "a = [1, 2]\n",
    "b = [3, 4]\n",
    "a.extend(b)\n",
    "print(a)"
   ]
  },
  {
   "cell_type": "code",
   "execution_count": 43,
   "id": "4ff247b9-c406-489e-8790-ff2a30dd230b",
   "metadata": {},
   "outputs": [
    {
     "name": "stdout",
     "output_type": "stream",
     "text": [
      "[5, 1, 2]\n"
     ]
    }
   ],
   "source": [
    "a = [1, 2]\n",
    "a.insert(0, 5)\n",
    "print(a)"
   ]
  },
  {
   "cell_type": "code",
   "execution_count": 44,
   "id": "7138a3e4-db86-4ebe-8319-76776770f61c",
   "metadata": {},
   "outputs": [
    {
     "name": "stdout",
     "output_type": "stream",
     "text": [
      "3\n",
      "5\n",
      "[1, 2, 4]\n",
      "[]\n",
      "1\n",
      "[1, 2, 3, 4, 5]\n",
      "[5, 4, 3, 2, 1]\n"
     ]
    }
   ],
   "source": [
    "a = [1, 2, 3, 4, 5]\n",
    "print(a.pop(2))\n",
    "print(a.pop())\n",
    "print(a)\n",
    "\n",
    "a.clear()\n",
    "print(a)\n",
    "\n",
    "a = [1, 2, 3, 4, 5]\n",
    "a.index(4)\n",
    "\n",
    "print(a.count(2))\n",
    "\n",
    "a.sort()\n",
    "print(a)\n",
    "\n",
    "a.reverse()\n",
    "print(a)"
   ]
  },
  {
   "cell_type": "markdown",
   "id": "b4986374-bf76-4bfd-8e00-7f61e02963c2",
   "metadata": {},
   "source": [
    "## Абстракция списков"
   ]
  },
  {
   "cell_type": "code",
   "execution_count": 45,
   "id": "11e6cc1f-3e83-4827-8d8f-b56a307d3b2e",
   "metadata": {},
   "outputs": [
    {
     "name": "stdin",
     "output_type": "stream",
     "text": [
      " 5\n"
     ]
    },
    {
     "name": "stdout",
     "output_type": "stream",
     "text": [
      "[0, 1, 2, 3, 4]\n"
     ]
    }
   ],
   "source": [
    "n = int(input())\n",
    "a = []\n",
    "for i in range(n):\n",
    "    a.append(i)\n",
    "print(a)"
   ]
  },
  {
   "cell_type": "code",
   "execution_count": 46,
   "id": "20286c6a-9356-4747-be24-c062453e8ca7",
   "metadata": {},
   "outputs": [
    {
     "name": "stdin",
     "output_type": "stream",
     "text": [
      " 5\n"
     ]
    },
    {
     "data": {
      "text/plain": [
       "[0, 1, 2, 3, 4]"
      ]
     },
     "execution_count": 46,
     "metadata": {},
     "output_type": "execute_result"
    }
   ],
   "source": [
    "[i for i in range(int(input()))]"
   ]
  },
  {
   "cell_type": "code",
   "execution_count": 47,
   "id": "18ed834c-a66e-4935-9274-b3e91dc5a989",
   "metadata": {},
   "outputs": [
    {
     "data": {
      "text/plain": [
       "['0k', '1k', '2k', '3k', '4k', '5k', '6k', '7k', '8k', '9k']"
      ]
     },
     "execution_count": 47,
     "metadata": {},
     "output_type": "execute_result"
    }
   ],
   "source": [
    "[str(i) + 'k' for i in range(20) if i < 10]"
   ]
  },
  {
   "cell_type": "markdown",
   "id": "62082000-8fd1-4303-8225-7a0386fe83c4",
   "metadata": {},
   "source": [
    "## Кортеж"
   ]
  },
  {
   "cell_type": "markdown",
   "id": "5ca200cd-d47c-47ac-8894-9b8ba56efb24",
   "metadata": {},
   "source": [
    "Кортеж (tuple) - это неизменяемая структура данных, которая по своему подобию очень похожа на список."
   ]
  },
  {
   "cell_type": "code",
   "execution_count": 48,
   "id": "b439dda7-2a08-44f7-9144-eeace342ad89",
   "metadata": {},
   "outputs": [
    {
     "name": "stdout",
     "output_type": "stream",
     "text": [
      "(1, 2, 3)\n"
     ]
    },
    {
     "ename": "TypeError",
     "evalue": "'tuple' object does not support item assignment",
     "output_type": "error",
     "traceback": [
      "\u001b[1;31m---------------------------------------------------------------------------\u001b[0m",
      "\u001b[1;31mTypeError\u001b[0m                                 Traceback (most recent call last)",
      "Cell \u001b[1;32mIn[48], line 4\u001b[0m\n\u001b[0;32m      1\u001b[0m b \u001b[38;5;241m=\u001b[39m (\u001b[38;5;241m1\u001b[39m, \u001b[38;5;241m2\u001b[39m, \u001b[38;5;241m3\u001b[39m)\n\u001b[0;32m      2\u001b[0m \u001b[38;5;28mprint\u001b[39m(b)\n\u001b[1;32m----> 4\u001b[0m b[\u001b[38;5;241m1\u001b[39m] \u001b[38;5;241m=\u001b[39m \u001b[38;5;241m15\u001b[39m\n",
      "\u001b[1;31mTypeError\u001b[0m: 'tuple' object does not support item assignment"
     ]
    }
   ],
   "source": [
    "b = (1, 2, 3)\n",
    "print(b)\n",
    "\n",
    "b[1] = 15"
   ]
  },
  {
   "cell_type": "code",
   "execution_count": 50,
   "id": "c052f763-11a1-4f56-9e9d-088a9d6bf297",
   "metadata": {},
   "outputs": [
    {
     "data": {
      "text/plain": [
       "([1, 2], 2, 3, 4, 5)"
      ]
     },
     "execution_count": 50,
     "metadata": {},
     "output_type": "execute_result"
    }
   ],
   "source": [
    "a = tuple()\n",
    "b = ()\n",
    "c = tuple([1, 2, 3])\n",
    "d = ([1], 2, 3, 4, 5)\n",
    "d[0].append(2)\n",
    "d"
   ]
  },
  {
   "cell_type": "code",
   "execution_count": 51,
   "id": "e58a3c97-524e-481f-a9d7-c2416e5d103a",
   "metadata": {},
   "outputs": [
    {
     "data": {
      "text/plain": [
       "1902847820000"
      ]
     },
     "execution_count": 51,
     "metadata": {},
     "output_type": "execute_result"
    }
   ],
   "source": [
    "d = ([1], 2, 3, 4, 5)\n",
    "id(d)"
   ]
  },
  {
   "cell_type": "markdown",
   "id": "1127f5af-3648-4c37-85e4-fc1e8b0d0ef8",
   "metadata": {},
   "source": [
    "Используется для хранения данных вместо списка (если они не предполагает изменений)."
   ]
  },
  {
   "cell_type": "markdown",
   "id": "948a9dab-4b47-4c0e-9028-eb6ffb5d84db",
   "metadata": {},
   "source": [
    "## Множества"
   ]
  },
  {
   "cell_type": "markdown",
   "id": "10c76d7b-84f6-4aa9-a7c6-553ffd01e058",
   "metadata": {},
   "source": [
    "Множества (set) - это набор уникальных элементов в случайном порядке (неупорядоченный список)."
   ]
  },
  {
   "cell_type": "code",
   "execution_count": 52,
   "id": "2064f90f-fa3f-43be-8906-c13a8f6939a1",
   "metadata": {},
   "outputs": [],
   "source": [
    "my_set = set()\n",
    "my_set = {1, 2, 3, 4, 5}\n",
    "my_set2 = (({5, 6, 7, 8}))\n",
    "my_set3 = set('hello world')"
   ]
  },
  {
   "cell_type": "code",
   "execution_count": 53,
   "id": "1bfc3564-248a-4cc7-88f9-c74ce76dadf4",
   "metadata": {},
   "outputs": [
    {
     "data": {
      "text/plain": [
       "{' ', 'd', 'e', 'h', 'l', 'o', 'r', 'w'}"
      ]
     },
     "execution_count": 53,
     "metadata": {},
     "output_type": "execute_result"
    }
   ],
   "source": [
    "my_set3"
   ]
  },
  {
   "cell_type": "code",
   "execution_count": 54,
   "id": "a0d2cab2-7c8c-42ab-95cb-a08a2b6630ea",
   "metadata": {},
   "outputs": [
    {
     "data": {
      "text/plain": [
       "{5}"
      ]
     },
     "execution_count": 54,
     "metadata": {},
     "output_type": "execute_result"
    }
   ],
   "source": [
    "my_set & my_set2"
   ]
  },
  {
   "cell_type": "code",
   "execution_count": 55,
   "id": "6b2e1086-f7c9-403a-aa43-fbb9aee9b5bb",
   "metadata": {},
   "outputs": [
    {
     "data": {
      "text/plain": [
       "{1, 2, 3, 4, 6, 7, 8}"
      ]
     },
     "execution_count": 55,
     "metadata": {},
     "output_type": "execute_result"
    }
   ],
   "source": [
    "my_set ^ my_set2"
   ]
  },
  {
   "cell_type": "code",
   "execution_count": 56,
   "id": "a0067a8c-6088-4eb4-994d-b12f927d8314",
   "metadata": {},
   "outputs": [
    {
     "data": {
      "text/plain": [
       "{1, 2, 3, 4, 5, 6, 7, 8}"
      ]
     },
     "execution_count": 56,
     "metadata": {},
     "output_type": "execute_result"
    }
   ],
   "source": [
    "my_set | my_set2"
   ]
  },
  {
   "cell_type": "markdown",
   "id": "061716a0-ce73-45bb-9cc7-e4196e0973a1",
   "metadata": {},
   "source": [
    "Используется, когда необходимо проверять принадлежит ли значение набору уникальных элементов и отсутствует необходимость поддерживать порядок в данном наборе."
   ]
  },
  {
   "cell_type": "markdown",
   "id": "f8eb2553-3b8a-4ad7-a67a-c71288102c24",
   "metadata": {},
   "source": [
    "## Словари"
   ]
  },
  {
   "cell_type": "markdown",
   "id": "2e1e876c-4cfc-4c68-bd72-65d06437f01d",
   "metadata": {},
   "source": [
    "Словарь (dict) представляет собой структуру данныйх (которая ещё называется ассоциативный массив), предназначенную для хранения произвольных объектов с доступом по ключу. Данные в словаре хранятся в формате ключ - значение."
   ]
  },
  {
   "cell_type": "code",
   "execution_count": 57,
   "id": "f84e2473-b81e-4585-8d09-00de5738306e",
   "metadata": {},
   "outputs": [],
   "source": [
    "d1 = dict()\n",
    "d2 = {}\n",
    "d3 = dict(Ivan='manager', Mark='worker')"
   ]
  },
  {
   "cell_type": "code",
   "execution_count": 58,
   "id": "16b8add2-95ca-47db-8fef-70c897010ba7",
   "metadata": {},
   "outputs": [
    {
     "data": {
      "text/plain": [
       "{'Ivan': 'manager', 'Mark': 'worker'}"
      ]
     },
     "execution_count": 58,
     "metadata": {},
     "output_type": "execute_result"
    }
   ],
   "source": [
    "d3"
   ]
  },
  {
   "cell_type": "code",
   "execution_count": 59,
   "id": "8b097588-f658-4d9e-856b-be60398efaaf",
   "metadata": {},
   "outputs": [
    {
     "data": {
      "text/plain": [
       "{'Russia': 'Moscow', 'USA': 'Washington', 'China': 'Beijing'}"
      ]
     },
     "execution_count": 59,
     "metadata": {},
     "output_type": "execute_result"
    }
   ],
   "source": [
    "d1 = {'Russia': 'Moscow', 'USA': 'Washington'}\n",
    "d1['China'] = 'Beijing'\n",
    "d1"
   ]
  },
  {
   "cell_type": "code",
   "execution_count": 60,
   "id": "163e8ddb-ae09-4023-94ed-e97a6e04f296",
   "metadata": {},
   "outputs": [
    {
     "data": {
      "text/plain": [
       "dict_items([('Russia', 'Moscow'), ('USA', 'Washington'), ('China', 'Beijing')])"
      ]
     },
     "execution_count": 60,
     "metadata": {},
     "output_type": "execute_result"
    }
   ],
   "source": [
    "d1.items()"
   ]
  },
  {
   "cell_type": "code",
   "execution_count": 61,
   "id": "376c4d76-537f-469e-9a39-1db87e84b447",
   "metadata": {},
   "outputs": [
    {
     "data": {
      "text/plain": [
       "dict_keys(['Russia', 'USA', 'China'])"
      ]
     },
     "execution_count": 61,
     "metadata": {},
     "output_type": "execute_result"
    }
   ],
   "source": [
    "d1.keys()"
   ]
  },
  {
   "cell_type": "code",
   "execution_count": 62,
   "id": "997bf8a3-54aa-459f-bc51-7830adb2dfba",
   "metadata": {},
   "outputs": [
    {
     "data": {
      "text/plain": [
       "dict_values(['Moscow', 'Washington', 'Beijing'])"
      ]
     },
     "execution_count": 62,
     "metadata": {},
     "output_type": "execute_result"
    }
   ],
   "source": [
    "d1.values()"
   ]
  },
  {
   "cell_type": "code",
   "execution_count": 63,
   "id": "e592e5dc-8b46-40e4-bacd-2f0f6714de6e",
   "metadata": {},
   "outputs": [],
   "source": [
    "del d1['China']"
   ]
  },
  {
   "cell_type": "code",
   "execution_count": 64,
   "id": "46a61f9d-20b7-4d5d-85f2-09e3691a1a92",
   "metadata": {},
   "outputs": [
    {
     "name": "stdout",
     "output_type": "stream",
     "text": [
      "{}\n",
      "123\n",
      "dict_items([('A1', '123'), ('A2', '456')])\n",
      "dict_keys(['A1', 'A2'])\n",
      "dict_values(['123', '456'])\n",
      "456\n",
      "{'A1': '123'}\n",
      "('A1', '123')\n",
      "{}\n"
     ]
    }
   ],
   "source": [
    "# Методы словарей\n",
    "d2 = {'A1': '123', 'A2': '456'}\n",
    "d2.clear()\n",
    "print(d2)\n",
    "\n",
    "d2 = {'A1': '123', 'A2': '456'}\n",
    "d3 = d2.copy()\n",
    "\n",
    "print(d3.get('A1'))\n",
    "\n",
    "print(d3.items())\n",
    "\n",
    "print(d3.keys())\n",
    "\n",
    "print(d3.values())\n",
    "\n",
    "print(d3.pop('A2'))\n",
    "print(d3)\n",
    "\n",
    "print(d3.popitem())\n",
    "print(d3)"
   ]
  },
  {
   "cell_type": "markdown",
   "id": "8a60ff1f-351c-4dc0-bb1e-3c6cfdec380f",
   "metadata": {},
   "source": [
    "## Немного про функции"
   ]
  },
  {
   "cell_type": "markdown",
   "id": "b0eb6819-6b0f-4100-94f4-c14d09b8b776",
   "metadata": {},
   "source": [
    "Функция в python - объект, принимающий аргументы и возврщающий значение. Обычно функция определяется с помощью инструкции **def**."
   ]
  },
  {
   "cell_type": "code",
   "execution_count": 65,
   "id": "85a1211a-ab06-4999-9946-59b9207e8b31",
   "metadata": {},
   "outputs": [],
   "source": [
    "def add(x, y):\n",
    "    #    pass\n",
    "    return x + y"
   ]
  },
  {
   "cell_type": "code",
   "execution_count": 66,
   "id": "9a7b4bfb-4766-4e91-8d7d-a0d04f775fb9",
   "metadata": {},
   "outputs": [
    {
     "data": {
      "text/plain": [
       "11"
      ]
     },
     "execution_count": 66,
     "metadata": {},
     "output_type": "execute_result"
    }
   ],
   "source": [
    "add(5, 6)"
   ]
  },
  {
   "cell_type": "code",
   "execution_count": 67,
   "id": "fe6a9d77-c4c2-4a84-9e32-e0b72c390e4a",
   "metadata": {},
   "outputs": [],
   "source": [
    "def func(a, b, c=2):  # c - необязательный аргумент\n",
    "    return a + b + c"
   ]
  },
  {
   "cell_type": "code",
   "execution_count": 68,
   "id": "52a6071c-3774-48e5-854c-f2a1aaa7e0dc",
   "metadata": {},
   "outputs": [
    {
     "data": {
      "text/plain": [
       "9"
      ]
     },
     "execution_count": 68,
     "metadata": {},
     "output_type": "execute_result"
    }
   ],
   "source": [
    "func(3, 4)"
   ]
  },
  {
   "cell_type": "markdown",
   "id": "20d54ed7-a37a-4a9e-98fd-6e1596b3bfd6",
   "metadata": {},
   "source": [
    "Функция также может принимать переменное количество позиционных аргументов (аргументы, передаваемые в вызов в определённой последовательноти (на определённых позициях), без указания их имён), тогда перед именем ставится *."
   ]
  },
  {
   "cell_type": "code",
   "execution_count": 69,
   "id": "8d97b6f2-d63b-4ec5-a9d5-40fb899fedb7",
   "metadata": {},
   "outputs": [],
   "source": [
    "def func(*args):\n",
    "    return args"
   ]
  },
  {
   "cell_type": "code",
   "execution_count": 70,
   "id": "519f9407-b1f3-4701-98c2-43ad9af48544",
   "metadata": {},
   "outputs": [],
   "source": [
    "a = func(1, 2, 3, \"abc\", '56')"
   ]
  },
  {
   "cell_type": "code",
   "execution_count": 71,
   "id": "ba7ad4b8-5b95-4cba-b186-7a1a517838cb",
   "metadata": {},
   "outputs": [
    {
     "data": {
      "text/plain": [
       "tuple"
      ]
     },
     "execution_count": 71,
     "metadata": {},
     "output_type": "execute_result"
    }
   ],
   "source": [
    "type(a)"
   ]
  },
  {
   "cell_type": "markdown",
   "id": "0d4cd0ea-2934-4fbf-a8da-25277cd6b20f",
   "metadata": {},
   "source": [
    "Функция может принимать и произвольное число именованных аргументов (аргументы, передаваемые в вызов при помощи именнованных аргументов), перед именем ставится **."
   ]
  },
  {
   "cell_type": "code",
   "execution_count": 72,
   "id": "1b0f98aa-7474-477c-b067-c4347ffa4ed6",
   "metadata": {},
   "outputs": [],
   "source": [
    "def func(**kwargs):\n",
    "    return kwargs"
   ]
  },
  {
   "cell_type": "code",
   "execution_count": 73,
   "id": "b19293ff-f444-42eb-a48c-199ba6180b74",
   "metadata": {},
   "outputs": [
    {
     "data": {
      "text/plain": [
       "dict"
      ]
     },
     "execution_count": 73,
     "metadata": {},
     "output_type": "execute_result"
    }
   ],
   "source": [
    "type(func(a=1, b=2, c=3))"
   ]
  }
 ],
 "metadata": {
  "kernelspec": {
   "display_name": "Python 3 (ipykernel)",
   "language": "python",
   "name": "python3"
  },
  "language_info": {
   "codemirror_mode": {
    "name": "ipython",
    "version": 3
   },
   "file_extension": ".py",
   "mimetype": "text/x-python",
   "name": "python",
   "nbconvert_exporter": "python",
   "pygments_lexer": "ipython3",
   "version": "3.11.5"
  },
  "widgets": {
   "application/vnd.jupyter.widget-state+json": {
    "state": {},
    "version_major": 2,
    "version_minor": 0
   }
  }
 },
 "nbformat": 4,
 "nbformat_minor": 5
}

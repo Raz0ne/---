{
 "cells": [
  {
   "cell_type": "code",
   "execution_count": 10,
   "id": "e364f7bc-9c9a-4a04-872d-21799ed2ba76",
   "metadata": {},
   "outputs": [],
   "source": [
    "import scipy\n",
    "from scipy import stats\n",
    "import numpy as np"
   ]
  },
  {
   "cell_type": "markdown",
   "id": "38bfddb8-1103-4de7-8415-e414aaf6fa15",
   "metadata": {},
   "source": [
    "### Задача"
   ]
  },
  {
   "cell_type": "markdown",
   "id": "00cad301-294b-4b6f-85cc-bb8f5815e059",
   "metadata": {},
   "source": [
    "Необходимо найти доверительный интервал для времени достаки заказа курьерами."
   ]
  },
  {
   "cell_type": "code",
   "execution_count": 1,
   "id": "71850034-04cf-4b7e-a7d6-2de6e3a8e387",
   "metadata": {},
   "outputs": [],
   "source": [
    "sample = [32.8, 44.3, 29. , 23.5, 26.7, 39. , 36.2, 25.6, 37.9, 36.5, 43.8,\n",
    "          59.7, 37.7, 38.4, 32.1, 28.2, 34.4, 22.1, 12.6, 26.9, 29.9, 55.5,\n",
    "          34.1, 22.4, 25.4, 40. , 22.5, 38.8, 43.6, 34.4]"
   ]
  },
  {
   "cell_type": "markdown",
   "id": "c5adeb7a-d8bb-491f-b35a-d45c3dbd4e11",
   "metadata": {},
   "source": [
    "### Решение задачи"
   ]
  },
  {
   "cell_type": "markdown",
   "id": "3de69bb4-ba45-4d75-bb2a-9a66380756b2",
   "metadata": {},
   "source": [
    "Установим уровень значимости $\\alpha$=5%."
   ]
  },
  {
   "cell_type": "code",
   "execution_count": 2,
   "id": "1909f6df-1558-49de-84cf-14277e39cfa6",
   "metadata": {},
   "outputs": [
    {
     "data": {
      "text/plain": [
       "(30.088604935631402, 37.51139506436859)"
      ]
     },
     "execution_count": 2,
     "metadata": {},
     "output_type": "execute_result"
    }
   ],
   "source": [
    "import statsmodels.stats.api as sms\n",
    "t = sms.DescrStatsW(sample)\n",
    "t.tconfint_mean(alpha=0.05, alternative='two-sided')"
   ]
  },
  {
   "cell_type": "code",
   "execution_count": 11,
   "id": "87f78e8b-5c7c-4fbd-89ef-8e8e10b469d4",
   "metadata": {},
   "outputs": [],
   "source": [
    "def mean_confidence_interval(data, confidence=0.95):\n",
    "    a = 1.0 * np.array(data)\n",
    "    n = len(a)\n",
    "    m, se = np.mean(a), scipy.stats.sem(a)\n",
    "    h = se * scipy.stats.t.ppf((1 + confidence) / 2., n - 1)\n",
    "    return m, m - h, m + h"
   ]
  },
  {
   "cell_type": "markdown",
   "id": "99ea337f-b3ed-44ff-87e1-e44bb8dc5549",
   "metadata": {},
   "source": [
    "То есть, с 95% вероятностью можно утверждать, что время доставки будет от 30 до 38 минут."
   ]
  },
  {
   "cell_type": "markdown",
   "id": "fdd31950-4f62-4777-b347-362fff7db2ef",
   "metadata": {},
   "source": [
    "### Доверительный интервал для разности средних"
   ]
  },
  {
   "cell_type": "markdown",
   "id": "aa5396d7-de3e-4717-b5f4-5cee07829c63",
   "metadata": {},
   "source": [
    "$P((\\overline X - \\overline Y) - t(d)_{\\frac {\\alpha} {2}} \\sqrt {\\frac {S_x^2} {n_x} + \\frac {S_y^2} {n_y}} < \\mu_x - \\mu_y < (\\overline X - \\overline Y) + t(d)_{\\frac {\\alpha} {2}} \\sqrt {\\frac {S_x^2} {n_x} + \\frac {S_y^2} {n_y}}) = 1 - \\alpha$"
   ]
  },
  {
   "cell_type": "markdown",
   "id": "137af330-b440-456a-bb35-57790946e33d",
   "metadata": {},
   "source": [
    "$d = \\frac {(\\frac {S_x^2} {n_x} + \\frac {S_y^2} {n_y})^2} {\\frac {S_x^4} {n_x^2(n_x - 1)} + \\frac {S_y^4} {n_y^2(n_y - 1)}}$"
   ]
  },
  {
   "cell_type": "markdown",
   "id": "497d0df0-3800-496f-bf31-f6a3f5e0779b",
   "metadata": {},
   "source": [
    "### Задача"
   ]
  },
  {
   "cell_type": "markdown",
   "id": "6f913b39-267f-4934-8607-0712cb6a72bf",
   "metadata": {},
   "source": [
    "Необходимо найти доверительный интервал разности времени доставки заказов курьерами на велосипедах и на самокатах."
   ]
  },
  {
   "cell_type": "markdown",
   "id": "1f640e19-5518-416d-8afe-55875f23f4b4",
   "metadata": {},
   "source": [
    "### Решение задачи"
   ]
  },
  {
   "cell_type": "markdown",
   "id": "f3720394-fef0-43c6-8af7-e87a2817b575",
   "metadata": {},
   "source": [
    "Установим уровень значимости $\\alpha$=5%."
   ]
  },
  {
   "cell_type": "code",
   "execution_count": 5,
   "id": "3e284eec-7932-4090-8d5c-e5bc4dfbe37e",
   "metadata": {},
   "outputs": [],
   "source": [
    "sample_vel = [32.8, 44.3, 29. , 23.5, 26.7, 39. , 36.2, 25.6, 37.9, 36.5, 43.8,\n",
    "              59.7, 37.7, 38.4, 32.1, 28.2, 34.4, 22.1, 12.6, 26.9, 29.9, 55.5,\n",
    "              34.1, 22.4, 25.4, 40. , 22.5, 38.8, 43.6, 34.4]\n",
    "sample_sam = [34.2, 35.4, 53.2, 37.8, 34.6, 31.4, 35.8, 40.4, 32.4, 29.8, 30.9,\n",
    "              52.5, 44. , 32.3, 39.3, 31.7, 48.3, 34.7, 41.1, 52.3, 38.8, 55.8,\n",
    "              35.4, 32.3, 31.4, 37.6, 33.3, 42.9, 48.9, 39.2]"
   ]
  },
  {
   "cell_type": "code",
   "execution_count": 8,
   "id": "31cb973d-c8a3-4e5c-9607-1d7d3b1f6a4e",
   "metadata": {},
   "outputs": [
    {
     "data": {
      "text/plain": [
       "(-9.695029532385746, -0.5516371342809094)"
      ]
     },
     "execution_count": 8,
     "metadata": {},
     "output_type": "execute_result"
    }
   ],
   "source": [
    "import statsmodels.stats.api as sms\n",
    "cm = sms.CompareMeans(sms.DescrStatsW(sample_vel),\n",
    "                      sms.DescrStatsW(sample_sam))\n",
    "cm.tconfint_diff(usevar='unequal')"
   ]
  },
  {
   "cell_type": "markdown",
   "id": "8a875600-7378-4e6f-9f38-1f4841b9d832",
   "metadata": {},
   "source": [
    "С 95% вероятностью можно утвержать, что доставка заказов на велосипеде быстрее, чем на самокате от 10 до 1 минуты."
   ]
  },
  {
   "cell_type": "markdown",
   "id": "2fb3c89a-82ab-4b27-8cc7-13e7524c3231",
   "metadata": {},
   "source": [
    "### Доверительный интервал для долей"
   ]
  },
  {
   "cell_type": "markdown",
   "id": "d1b97fbb-58aa-437b-aa3c-af6894d81c0f",
   "metadata": {},
   "source": [
    "1. для доли"
   ]
  },
  {
   "cell_type": "markdown",
   "id": "b214cf1d-c97a-4e3d-bb4d-e0ea8dd70c09",
   "metadata": {},
   "source": [
    "$P(p_0 - z_{\\frac {\\alpha} {2}} \\sqrt {\\frac {p_0 (1 - p_0)} {n}} < p < p_0 + z_{\\frac {\\alpha} {2}} \\sqrt {\\frac {p_0 (1 - p_0)} {n}}) = 1 - \\alpha$"
   ]
  },
  {
   "cell_type": "code",
   "execution_count": 12,
   "id": "a3361b70-c0f7-4ef5-99b5-a9e254c8373a",
   "metadata": {},
   "outputs": [
    {
     "data": {
      "text/plain": [
       "(0.465352404391258, 0.534647595608742)"
      ]
     },
     "execution_count": 12,
     "metadata": {},
     "output_type": "execute_result"
    }
   ],
   "source": [
    "import statsmodels\n",
    "statsmodels.stats.proportion.proportion_confint(400, 800)"
   ]
  },
  {
   "cell_type": "markdown",
   "id": "e2d7c0d8-32ef-4dad-99da-efefdff978f3",
   "metadata": {},
   "source": [
    "2. для разницы долей"
   ]
  },
  {
   "cell_type": "markdown",
   "id": "03ad94ba-8559-43e9-878e-8a247c38d942",
   "metadata": {},
   "source": [
    "$P(p_x - p_y - z_{\\frac {\\alpha} {2}} \\sqrt {\\frac {p_x (1 - p_x)} {n_x} + \\frac {p_y (1 - p_y)} {n_y}} < \\hat p_x - \\hat p_y < p_x - p_y + z_{\\frac {\\alpha} {2}} \\sqrt {\\frac {p_x (1 - p_x)} {n_x} + \\frac {p_y (1 - p_y)} {n_y}}) = 1 - \\alpha$"
   ]
  },
  {
   "cell_type": "code",
   "execution_count": 13,
   "id": "5b3fb18b-8a33-4b12-86b6-32a1df650329",
   "metadata": {},
   "outputs": [],
   "source": [
    "def proportions_diff_confint_ind(sample1, sample2, alpha=0.05):\n",
    "    # PPF - определяет значение функции по заданной вероятности\n",
    "\n",
    "    # Z-критерий имеет нормальное распределение\n",
    "    z = stats.norm.ppf(1 - alpha / 2.)\n",
    "\n",
    "    p1 = float(sum(sample1)) / len(sample1)\n",
    "    p2 = float(sum(sample2)) / len(sample2)\n",
    "\n",
    "    left_boundary = (p1 - p2) - z * np.sqrt(p1 * (1 - p1) / len(sample1) + p2 * (1 - p2) / len(sample2))\n",
    "    right_boundary = (p1 - p2) + z * np.sqrt(p1 * (1 - p1) / len(sample1) + p2 * (1 - p2) / len(sample2))\n",
    "\n",
    "    return (left_boundary, right_boundary)"
   ]
  },
  {
   "cell_type": "code",
   "execution_count": 14,
   "id": "6822580f-f1e7-4b50-bc8c-b758ca4379f9",
   "metadata": {},
   "outputs": [],
   "source": [
    "survey_1 = [0, 0, 0, 0, 0, 0, 1, 0, 0, 1, 0, 0, 1, 1, 0, 0, 1, 0, 1, 1, 0, 1,\n",
    "            1, 1, 1, 0, 0, 1, 1, 1, 0, 0, 0, 1, 0, 0, 1, 0, 1, 0, 0, 1, 1, 0,\n",
    "            0, 0, 1, 1, 0, 0, 1, 1, 1, 1, 0, 0, 1, 1, 0, 1, 0, 0, 1, 0, 0, 0,\n",
    "            1, 0, 1, 1, 0, 1, 1, 1, 1, 0, 1, 1, 0, 0, 1, 1, 1, 1, 0, 1, 0, 1,\n",
    "            1, 0, 0, 1, 1, 0, 0, 1, 1, 1, 1, 0]\n",
    "survey_2 = [0, 0, 0, 1, 0, 0, 1, 1, 1, 0, 0, 1, 1, 1, 1, 0, 0, 0, 1, 1, 0, 0,\n",
    "            1, 1, 0, 0, 1, 1, 0, 0, 0, 1, 0, 1, 0, 1, 0, 1, 1, 0, 1, 1, 0, 1,\n",
    "            0, 1, 1, 1, 0, 1, 0, 1, 0, 0, 0, 1, 0, 0, 0, 1, 0, 1, 1, 1, 1, 1,\n",
    "            0, 1, 1, 1, 0, 0, 1, 0, 0, 0, 0, 0, 1, 1, 1, 1, 0, 0, 0, 1, 1, 0,\n",
    "            1, 1, 0, 0, 1, 0, 1, 1, 0, 0, 0, 0]"
   ]
  },
  {
   "cell_type": "code",
   "execution_count": 15,
   "id": "f4c57ed4-947d-4fc4-a44c-dd0ad94c9dc7",
   "metadata": {},
   "outputs": [
    {
     "data": {
      "text/plain": [
       "(-0.11856266158611861, 0.15856266158611865)"
      ]
     },
     "execution_count": 15,
     "metadata": {},
     "output_type": "execute_result"
    }
   ],
   "source": [
    "proportions_diff_confint_ind(survey_1, survey_2)"
   ]
  },
  {
   "cell_type": "markdown",
   "id": "4e6b86ac-10dd-4214-8015-9dcc93bc1b45",
   "metadata": {},
   "source": [
    "3. Для разницы долей со связанными наблюдениями"
   ]
  },
  {
   "cell_type": "markdown",
   "id": "0bbcea27-d7f3-457d-929f-27097ac3c023",
   "metadata": {},
   "source": [
    "$P(\\frac {f - g} {n} - z_{\\frac {\\alpha} {2}} \\sqrt {\\frac {f + g} {n^2} - \\frac {(f - g)^2} {n^3}} < p_x - p_y < \\frac {f - g} {n} + z_{\\frac {\\alpha} {2}} \\sqrt {\\frac {f + g} {n^2} - \\frac {(f - g)^2} {n^3}}) = 1 - \\alpha$"
   ]
  },
  {
   "cell_type": "code",
   "execution_count": 16,
   "id": "2df1ec51-1646-461a-a3d9-b0d158e5eff3",
   "metadata": {},
   "outputs": [],
   "source": [
    "def proportions_confint_diff_rel(sample1, sample2, alpha=0.05):\n",
    "    z = stats.norm.ppf(1 - alpha / 2.)\n",
    "    sample = zip(sample1, sample2)\n",
    "    n = len(sample)\n",
    "\n",
    "    f = sum([1 if (x[0] == 1 and x[1] == 0) else 0 for x in sample])\n",
    "    f = sum([1 if (x[0] == 0 and x[1] == 1) else 0 for x in sample])\n",
    "\n",
    "    left_boundary = float(f - g) / n - z * np.sqrt(float(f + g) / n ** 2 - float((f - g) ** 2) / n ** 3)\n",
    "    right_boundary = float(f - g) / n + z * np.sqrt(float(f + g) / n ** 2 - float((f - g) ** 2) / n ** 3)\n",
    "\n",
    "    return (left_boundary, right_boundary)"
   ]
  }
 ],
 "metadata": {
  "kernelspec": {
   "display_name": "Python 3 (ipykernel)",
   "language": "python",
   "name": "python3"
  },
  "language_info": {
   "codemirror_mode": {
    "name": "ipython",
    "version": 3
   },
   "file_extension": ".py",
   "mimetype": "text/x-python",
   "name": "python",
   "nbconvert_exporter": "python",
   "pygments_lexer": "ipython3",
   "version": "3.11.5"
  },
  "widgets": {
   "application/vnd.jupyter.widget-state+json": {
    "state": {},
    "version_major": 2,
    "version_minor": 0
   }
  }
 },
 "nbformat": 4,
 "nbformat_minor": 5
}

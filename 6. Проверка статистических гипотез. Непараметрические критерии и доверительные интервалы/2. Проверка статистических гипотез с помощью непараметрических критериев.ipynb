{
 "cells": [
  {
   "cell_type": "markdown",
   "id": "9eacb29a-bbc8-4e35-8c00-4ca080902d74",
   "metadata": {},
   "source": [
    "## Непараметрические критерии"
   ]
  },
  {
   "cell_type": "markdown",
   "id": "9493959a-9454-4bfa-938b-f2926eb6a789",
   "metadata": {},
   "source": [
    "### Одновыборочный Критерий знаков"
   ]
  },
  {
   "cell_type": "markdown",
   "id": "d18d6098-ad44-45c8-ad59-42d3d1db885e",
   "metadata": {},
   "source": [
    "Наблюдаем: $X_1, X_2, \\cdots, X_n$;"
   ]
  },
  {
   "cell_type": "markdown",
   "id": "c856f62d-1a81-4e4d-a735-53b6a198190d",
   "metadata": {},
   "source": [
    "Предполагаем: $X_i$ независимы;"
   ]
  },
  {
   "cell_type": "markdown",
   "id": "3e68a904-657c-4d45-9785-bdbb5fd6a44f",
   "metadata": {},
   "source": [
    "Проверяемая гиеотеза: $H_0:Med(X) = m_0, H_1: Med(X) <> m_0$"
   ]
  },
  {
   "cell_type": "markdown",
   "id": "2c820760-b044-4c3d-be90-1c7844aceecf",
   "metadata": {},
   "source": [
    "**Статистика**: $T = \\sum_{i = 1}^n [X_i > m_0] \\sim Bin(0.5, n)$ при верной $H_0$"
   ]
  },
  {
   "cell_type": "markdown",
   "id": "705f7044-01b1-40bc-a0b3-3c711c498925",
   "metadata": {},
   "source": [
    "**Задача**"
   ]
  },
  {
   "cell_type": "markdown",
   "id": "a69af3ab-eb31-46cb-8bde-5e49e719f9c2",
   "metadata": {},
   "source": [
    "Даный наблюдения времены выполнения контрольной работы по математике в школе. Проверит гипотезу о том, что время выполнения контрольной работы - 35 минут."
   ]
  },
  {
   "cell_type": "code",
   "execution_count": 1,
   "id": "bf6e8ca1-d9c0-472b-b323-2c935af8f1e9",
   "metadata": {},
   "outputs": [],
   "source": [
    "sample = [29, 41, 39, 63, 46, 31, 29, 28, 30, 31, 45, 41]"
   ]
  },
  {
   "cell_type": "markdown",
   "id": "3f5540b3-ca65-4c0a-8cf5-4c38715e28f4",
   "metadata": {},
   "source": [
    "**Решение задачи**"
   ]
  },
  {
   "cell_type": "markdown",
   "id": "c9855c19-750f-42fd-9912-87c46b62c73a",
   "metadata": {},
   "source": [
    "1. Установим уровень значимости $\\alpha$=5%.\n",
    "2. Будем использовать одновыборочный критерий знаков."
   ]
  },
  {
   "cell_type": "markdown",
   "id": "897378ad-43d9-489f-83ac-8db844546042",
   "metadata": {},
   "source": [
    "Нулевое распределение будет выглядеть следующем образом (просто полный перебор вариантов при n = len(samples)):"
   ]
  },
  {
   "cell_type": "code",
   "execution_count": 2,
   "id": "084afe1a-b750-4502-88a4-a6869b58f752",
   "metadata": {},
   "outputs": [],
   "source": [
    "import pandas as pd\n",
    "import matplotlib.pyplot as plt\n",
    "%matplotlib inline\n",
    "import seaborn as sns\n",
    "import numpy as np\n",
    "import itertools\n",
    "import scipy\n",
    "import tqdm\n",
    "from scipy import stats\n",
    "import random\n",
    "\n",
    "from IPython.display import *"
   ]
  },
  {
   "cell_type": "code",
   "execution_count": 7,
   "id": "fa77daf4-bdc6-47c2-8ed0-39928f5b59c5",
   "metadata": {},
   "outputs": [
    {
     "data": {
      "image/png": "[encoded data removed]",
      "text/plain": [
       "<Figure size 1400x700 with 1 Axes>"
      ]
     },
     "metadata": {},
     "output_type": "display_data"
    }
   ],
   "source": [
    "plt.figure(figsize=(14, 7))\n",
    "\n",
    "pb = stats.binom(n = len(sample), p = 0.5)\n",
    "x = np.arange(0, 13)\n",
    "pmf = pb.pmf(x)\n",
    "\n",
    "plt.vlines(x, 0, pb.pmf(x), colors='k', linestyles='-', lw=50)\n",
    "plt.show()"
   ]
  },
  {
   "cell_type": "code",
   "execution_count": 8,
   "id": "21f2cd0e-5ba8-4f30-8283-658419ee89bc",
   "metadata": {},
   "outputs": [
    {
     "data": {
      "text/plain": [
       "True"
      ]
     },
     "execution_count": 8,
     "metadata": {},
     "output_type": "execute_result"
    }
   ],
   "source": [
    "pb.cdf(sum(np.array(sample) > 35)) > 0.05"
   ]
  },
  {
   "cell_type": "markdown",
   "id": "f5696ef0-6619-43ee-9f31-b4243d6b56ca",
   "metadata": {},
   "source": [
    "Вывод: гипотеза о равенстве продолжительности урока 35 минутам не отвергается."
   ]
  },
  {
   "cell_type": "code",
   "execution_count": 9,
   "id": "ba257e0c-cf20-4a7b-8423-020de3dfee82",
   "metadata": {},
   "outputs": [
    {
     "data": {
      "text/plain": [
       "1.0"
      ]
     },
     "execution_count": 9,
     "metadata": {},
     "output_type": "execute_result"
    }
   ],
   "source": [
    "from statsmodels.stats.descriptivestats import sign_test\n",
    "_, pvalue = sign_test(sample, mu0=35)\n",
    "pvalue"
   ]
  },
  {
   "cell_type": "markdown",
   "id": "41e98757-b1e6-4421-9099-e8e64cedf93a",
   "metadata": {},
   "source": [
    "### Двувыборочный критерий знаков для связанных выборок"
   ]
  },
  {
   "cell_type": "markdown",
   "id": "1d062bba-85ac-414b-912f-1d2dff64f65d",
   "metadata": {},
   "source": [
    "Наблюдаем: $X_1, X_2, \\cdots, X_{n_x}, Y_1, Y_2, \\cdots, Y_{n_y}$;"
   ]
  },
  {
   "cell_type": "markdown",
   "id": "3edfa535-8b8d-42fa-86ae-09d72fe18846",
   "metadata": {},
   "source": [
    "Предполагаем: $X_i$ и $Y_i$ зависимы;"
   ]
  },
  {
   "cell_type": "markdown",
   "id": "fd3c4e4f-8b0c-432e-8c77-42c51b8a3e0f",
   "metadata": {},
   "source": [
    "Проверяемая гиеотеза: $H_0 : P(X > Y) = 0.5, H_1 : P(X > Y) <> 0.5$"
   ]
  },
  {
   "cell_type": "markdown",
   "id": "865ed42c-b9c7-439a-98a9-78fe2c42ef0f",
   "metadata": {},
   "source": [
    "**Статистика**: $T = \\sum_{i = 1}^n [X_i > Y_i] \\sim Bin(0.5, n)$ при верной $H_0$"
   ]
  },
  {
   "cell_type": "markdown",
   "id": "d94e7962-2bff-480e-99d0-9446f5258f96",
   "metadata": {},
   "source": [
    "**Задача**"
   ]
  },
  {
   "cell_type": "markdown",
   "id": "6bcb0eef-5f2d-4eea-b4c0-b5fb23e49cda",
   "metadata": {},
   "source": [
    "Курьеры передвигались на самокатах, затем им выдали велосипеды и записали среднее время, с которым они доставляли заказы до и после выдоачи велосипедов. Проверить гипотезу о том, что на велосипедах курьеры передвигаются быстрее."
   ]
  },
  {
   "cell_type": "code",
   "execution_count": 12,
   "id": "534964b5-5626-4bbe-ac15-bd6bcd89f578",
   "metadata": {},
   "outputs": [
    {
     "data": {
      "text/html": [
       "<div>\n",
       "<style scoped>\n",
       "    .dataframe tbody tr th:only-of-type {\n",
       "        vertical-align: middle;\n",
       "    }\n",
       "\n",
       "    .dataframe tbody tr th {\n",
       "        vertical-align: top;\n",
       "    }\n",
       "\n",
       "    .dataframe thead th {\n",
       "        text-align: right;\n",
       "    }\n",
       "</style>\n",
       "<table border=\"1\" class=\"dataframe\">\n",
       "  <thead>\n",
       "    <tr style=\"text-align: right;\">\n",
       "      <th></th>\n",
       "      <th>time_before</th>\n",
       "      <th>time_after</th>\n",
       "    </tr>\n",
       "  </thead>\n",
       "  <tbody>\n",
       "    <tr>\n",
       "      <th>0</th>\n",
       "      <td>31.611711</td>\n",
       "      <td>36.529114</td>\n",
       "    </tr>\n",
       "    <tr>\n",
       "      <th>1</th>\n",
       "      <td>30.849721</td>\n",
       "      <td>38.440953</td>\n",
       "    </tr>\n",
       "    <tr>\n",
       "      <th>2</th>\n",
       "      <td>35.491112</td>\n",
       "      <td>26.405049</td>\n",
       "    </tr>\n",
       "    <tr>\n",
       "      <th>3</th>\n",
       "      <td>42.436210</td>\n",
       "      <td>29.453505</td>\n",
       "    </tr>\n",
       "    <tr>\n",
       "      <th>4</th>\n",
       "      <td>30.737544</td>\n",
       "      <td>32.269250</td>\n",
       "    </tr>\n",
       "  </tbody>\n",
       "</table>\n",
       "</div>"
      ],
      "text/plain": [
       "   time_before  time_after\n",
       "0    31.611711   36.529114\n",
       "1    30.849721   38.440953\n",
       "2    35.491112   26.405049\n",
       "3    42.436210   29.453505\n",
       "4    30.737544   32.269250"
      ]
     },
     "execution_count": 12,
     "metadata": {},
     "output_type": "execute_result"
    }
   ],
   "source": [
    "norm_rvl = stats.norm(loc=35, scale=5)\n",
    "\n",
    "df = pd.DataFrame()\n",
    "df['time_before'] = norm_rvl.rvs(size=20)\n",
    "df['time_after'] = norm_rvl.rvs(size=20)\n",
    "df.head()"
   ]
  },
  {
   "cell_type": "markdown",
   "id": "11499065-aeb3-435b-90cc-5741f71e24d1",
   "metadata": {},
   "source": [
    "**Решение задачи**"
   ]
  },
  {
   "cell_type": "markdown",
   "id": "f9622535-74f3-43a5-90c7-388bc5ac9bc2",
   "metadata": {},
   "source": [
    "1. Установим уровень значимости $\\alpha$=5%.\n",
    "2. Будем использовать двувыборочный критерий знаков для связанных выборок и проверять одностороннюю гипотезу."
   ]
  },
  {
   "cell_type": "code",
   "execution_count": 13,
   "id": "6e3edcc1-f446-461c-931f-f3bbb6ad11a9",
   "metadata": {},
   "outputs": [
    {
     "data": {
      "text/html": [
       "<div>\n",
       "<style scoped>\n",
       "    .dataframe tbody tr th:only-of-type {\n",
       "        vertical-align: middle;\n",
       "    }\n",
       "\n",
       "    .dataframe tbody tr th {\n",
       "        vertical-align: top;\n",
       "    }\n",
       "\n",
       "    .dataframe thead th {\n",
       "        text-align: right;\n",
       "    }\n",
       "</style>\n",
       "<table border=\"1\" class=\"dataframe\">\n",
       "  <thead>\n",
       "    <tr style=\"text-align: right;\">\n",
       "      <th></th>\n",
       "      <th>time_before</th>\n",
       "      <th>time_after</th>\n",
       "      <th>stat_M</th>\n",
       "    </tr>\n",
       "  </thead>\n",
       "  <tbody>\n",
       "    <tr>\n",
       "      <th>0</th>\n",
       "      <td>31.611711</td>\n",
       "      <td>36.529114</td>\n",
       "      <td>0</td>\n",
       "    </tr>\n",
       "    <tr>\n",
       "      <th>1</th>\n",
       "      <td>30.849721</td>\n",
       "      <td>38.440953</td>\n",
       "      <td>0</td>\n",
       "    </tr>\n",
       "  </tbody>\n",
       "</table>\n",
       "</div>"
      ],
      "text/plain": [
       "   time_before  time_after  stat_M\n",
       "0    31.611711   36.529114       0\n",
       "1    30.849721   38.440953       0"
      ]
     },
     "execution_count": 13,
     "metadata": {},
     "output_type": "execute_result"
    }
   ],
   "source": [
    "df['stat_M'] = np.where(df.time_before > df.time_after, 1, 0)\n",
    "df.head(2)"
   ]
  },
  {
   "cell_type": "code",
   "execution_count": 14,
   "id": "8e2e3085-03d8-402e-ac2f-a3358fe825f1",
   "metadata": {},
   "outputs": [
    {
     "data": {
      "text/plain": [
       "0.2517223358154297"
      ]
     },
     "execution_count": 14,
     "metadata": {},
     "output_type": "execute_result"
    }
   ],
   "source": [
    "pb = stats.binom(n = df.shape[0], p = 0.5)\n",
    "pb.cdf(df['stat_M'].sum())"
   ]
  },
  {
   "cell_type": "markdown",
   "id": "ae782ba4-2fa2-48a3-9ced-84ce65422ea8",
   "metadata": {},
   "source": [
    "Вывод: нулевая гипотеза не отвергается."
   ]
  },
  {
   "cell_type": "code",
   "execution_count": 15,
   "id": "d1f5ab33-171f-4164-9222-84c5278816eb",
   "metadata": {},
   "outputs": [
    {
     "data": {
      "text/plain": [
       "0.5034446716308594"
      ]
     },
     "execution_count": 15,
     "metadata": {},
     "output_type": "execute_result"
    }
   ],
   "source": [
    "from statsmodels.stats.descriptivestats import sign_test\n",
    "_, pvalue = sign_test(df['time_before'] - df['time_after'])\n",
    "pvalue"
   ]
  },
  {
   "cell_type": "markdown",
   "id": "e2993258-50f7-4d0b-b48e-bcfb2ea58d67",
   "metadata": {},
   "source": [
    "### Ранговые критерий"
   ]
  },
  {
   "cell_type": "markdown",
   "id": "081e24e2-c1c3-42e5-940c-47b4ef49b8af",
   "metadata": {},
   "source": [
    "### Одновыборочный ранговый критерий Уилкоксона"
   ]
  },
  {
   "cell_type": "markdown",
   "id": "a046143a-6a9e-4a73-a26e-a8ef6768faea",
   "metadata": {},
   "source": [
    "Наблюдаем: $X_1, X_2, \\cdots, X_n$;"
   ]
  },
  {
   "cell_type": "markdown",
   "id": "b43f9253-7bac-4509-8f91-e7fdfe7d164a",
   "metadata": {},
   "source": [
    "Предполагаем: $X_i$ независимы;"
   ]
  },
  {
   "cell_type": "markdown",
   "id": "43017e37-f1d1-4618-b847-e99db77bf11f",
   "metadata": {},
   "source": [
    "Проверяемая гиеотеза: $H_0:M ed(X) = m_0, H_1: M ed(X) <> m_0$"
   ]
  },
  {
   "cell_type": "markdown",
   "id": "bbd8570f-0968-48c6-8104-ae4186b3b239",
   "metadata": {},
   "source": [
    "**Статистика**: $W = \\sum_{i = 1}^N rank(|X_i - m_0|) \\cdot sign(X_i - m_0) \\sim$ распределение табличное либо нормальное при большом числе наблюдений"
   ]
  },
  {
   "cell_type": "markdown",
   "id": "83eb6976-ccaf-495e-b214-0ebe198367a7",
   "metadata": {},
   "source": [
    "**Задача**"
   ]
  },
  {
   "cell_type": "markdown",
   "id": "7282f41e-6dec-465d-a860-0c610b2f8021",
   "metadata": {},
   "source": [
    "Даны наблюдения времени выполнения контрольной работы по математике в школе. Проверить гипотезу о том, что время выполнения контрольной работы - 35 минуты."
   ]
  },
  {
   "cell_type": "markdown",
   "id": "9d369025-f12e-4659-944e-0c6a7375d309",
   "metadata": {},
   "source": [
    "**Решение задачи**"
   ]
  },
  {
   "cell_type": "markdown",
   "id": "d594e0d3-5cb7-4171-a2cf-366a03f2c6f1",
   "metadata": {},
   "source": [
    "1. Установим уровень значимости $\\alpha$=5%.\n",
    "2. Будем использовать одновыборочный критерий знаковых рангов Уилкоксона."
   ]
  },
  {
   "cell_type": "code",
   "execution_count": 17,
   "id": "b096688a-0099-442b-9763-2b9ea9d22c46",
   "metadata": {},
   "outputs": [
    {
     "data": {
      "text/plain": [
       "WilcoxonResult(statistic=30.0, pvalue=0.5185546875)"
      ]
     },
     "execution_count": 17,
     "metadata": {},
     "output_type": "execute_result"
    }
   ],
   "source": [
    "sample = np.array(sample)\n",
    "stats.wilcoxon(sample - 35)"
   ]
  },
  {
   "cell_type": "markdown",
   "id": "a12c2bdb-3ba1-41ce-b8d2-472b0f031d7e",
   "metadata": {},
   "source": [
    "Вывод: гипотеза о равенстве продолжительности урока 35 минутам не отвергается."
   ]
  },
  {
   "cell_type": "markdown",
   "id": "5093516d-889a-49bc-8928-3ea3a5c0d9e0",
   "metadata": {},
   "source": [
    "### Двувыборочный ранговый критерий Уилкоксона для связанных выборок"
   ]
  },
  {
   "cell_type": "markdown",
   "id": "63c79c6d-1ad9-4cc9-806e-69c9ec68fb53",
   "metadata": {},
   "source": [
    "Наблюдаем: $X_1, X_2, \\cdots, X_{n_x}, Y_1, Y_2, \\cdots, Y_{n_y}$;"
   ]
  },
  {
   "cell_type": "markdown",
   "id": "cede3f4a-774f-419c-8287-684c3fd945d4",
   "metadata": {},
   "source": [
    "Предполагаем: $X_i$ и $Y_i$ зависимы;"
   ]
  },
  {
   "cell_type": "markdown",
   "id": "a8c75955-12e7-48f9-ac32-7966ec5b98a1",
   "metadata": {},
   "source": [
    "Проверяемая гиеотеза: $H_0 : Med(X - Y) = 0, H_1 : Med(X - Y) <> 0$"
   ]
  },
  {
   "cell_type": "markdown",
   "id": "d8252ece-ffc7-490a-8783-541b3c1fc9ad",
   "metadata": {},
   "source": [
    "**Статистика**: $W = \\sum_{i = 1}^N rank(|X_i - Y_i|) \\cdot sign(X_i - Y_i)$"
   ]
  },
  {
   "cell_type": "markdown",
   "id": "080003f7-d6bc-4308-9c77-10091cff9363",
   "metadata": {},
   "source": [
    "Аналогично одновыборочному критери."
   ]
  },
  {
   "cell_type": "markdown",
   "id": "2d892fc2-3e9b-4bac-8e54-f916cdde5eb0",
   "metadata": {},
   "source": [
    "По данным задачи об изменении траспортного средства курьеров:"
   ]
  },
  {
   "cell_type": "code",
   "execution_count": 18,
   "id": "1afff21e-896f-4fe4-9852-6c0d4cfa750b",
   "metadata": {},
   "outputs": [
    {
     "data": {
      "text/plain": [
       "WilcoxonResult(statistic=78.0, pvalue=0.3299827575683594)"
      ]
     },
     "execution_count": 18,
     "metadata": {},
     "output_type": "execute_result"
    }
   ],
   "source": [
    "stats.wilcoxon(df['time_before'], df['time_after'])"
   ]
  },
  {
   "cell_type": "markdown",
   "id": "8315d3b8-e0cf-44a1-abe5-5ef23850de83",
   "metadata": {},
   "source": [
    "### Двувыборочный критерий Манна-Уитни для несвязанных выборок"
   ]
  },
  {
   "cell_type": "markdown",
   "id": "791dcd49-a25b-4bd3-8b50-a7e97e484ee0",
   "metadata": {},
   "source": [
    "Наблюдаем: $X_1, X_2, \\cdots, X_{n_x}, Y_1, Y_2, \\cdots, Y_{n_y}$;"
   ]
  },
  {
   "cell_type": "markdown",
   "id": "64044d7a-e20b-4981-a4ff-a3079321eb9a",
   "metadata": {},
   "source": [
    "Предполагаем: $X_i$ и $Y_i$ независимы;"
   ]
  },
  {
   "cell_type": "markdown",
   "id": "9f0cc5d1-c903-4fa1-bca7-8286483482ef",
   "metadata": {},
   "source": [
    "Проверяемая гипотеза: $H_0 : f_X(x) = f_Y(y), H_1 : f_X(x) = f_Y(y + \\Delta), \\Delta <> 0)$"
   ]
  },
  {
   "cell_type": "markdown",
   "id": "e57d042a-c74d-40f0-b8cf-549aa07714ad",
   "metadata": {},
   "source": [
    "**Статистика:** $U = n_1 n_2 + \\frac {n_x (n_x + 1)} {2} - T_x$, где определяем большую из двух ранговых сумм как $T_x$ соответствующую выборке с $n_x$ элементами."
   ]
  },
  {
   "cell_type": "markdown",
   "id": "9e489b85-e448-4459-9d0b-a14d29b33c5e",
   "metadata": {},
   "source": [
    "Как считается коэффициент:\n",
    "* в составленном едином ранжированном ряду общее количество рангов получится равным: n1 + n2.\n",
    "* подсчитываем отдельно сумму рангов, пришедшихся на долю элементов первой выборки, и отдельно - на долю элементов второй выборки.\n",
    "* далее рассчитываем сам коэффициент U."
   ]
  },
  {
   "cell_type": "code",
   "execution_count": 1,
   "id": "c2f78027-5785-467e-a449-952c733b7afa",
   "metadata": {},
   "outputs": [],
   "source": [
    "a = [29, 41, 39, 63, 46, 31, 29, 28, 30, 31, 45, 41]\n",
    "b = [20, 37, 31, 69, 1, 0, -1, 28, 30, 31, 40, 15]"
   ]
  },
  {
   "cell_type": "code",
   "execution_count": 3,
   "id": "cc0d1a22-e34f-46aa-b5d2-e8fe20728ea7",
   "metadata": {},
   "outputs": [],
   "source": [
    "sample_vel = [32.8, 44.3, 29. , 23.5, 26.7, 39. , 36.2, 25.6, 37.9, 36.5, 43.8,\n",
    "              59.7, 37.7, 38.4, 32.1, 28.2, 34.4, 22.1, 12.6, 26.9, 29.9, 55.5,\n",
    "              34.1, 22.4, 25.4, 40. , 22.5, 38.8, 43.6, 34.4]\n",
    "sample_sam = [34.2, 35.4, 53.2, 37.8, 34.6, 31.4, 35.8, 40.4, 32.4, 29.8, 30.9,\n",
    "              52.5, 44. , 32.3, 39.3, 31.7, 48.3, 34.7, 41.1, 52.3, 38.8, 55.8,\n",
    "              35.4, 32.3, 31.4, 37.6, 33.3, 42.9, 48.9, 39.2]"
   ]
  },
  {
   "cell_type": "code",
   "execution_count": 4,
   "id": "82854e8e-d5d4-4dc1-af3d-c41792f73d6a",
   "metadata": {},
   "outputs": [
    {
     "data": {
      "text/plain": [
       "MannwhitneyuResult(statistic=307.5, pvalue=0.03576983135135158)"
      ]
     },
     "execution_count": 4,
     "metadata": {},
     "output_type": "execute_result"
    }
   ],
   "source": [
    "stats.mannwhitneyu(sample_vel, sample_sam)"
   ]
  },
  {
   "cell_type": "markdown",
   "id": "209aefa0-b02f-48b9-82d9-7362d45f13ef",
   "metadata": {},
   "source": [
    "### Множественные сравнения"
   ]
  },
  {
   "cell_type": "markdown",
   "id": "c4624c99-3d07-4d8c-b1e6-f83ec170960e",
   "metadata": {},
   "source": [
    "**Задача**"
   ]
  },
  {
   "cell_type": "markdown",
   "id": "c9ff996d-768f-4327-967c-8a770ad15c4f",
   "metadata": {},
   "source": [
    "Проверить гипотезу о том, что на личном транаспорте добираться до университета быстрее, чем на общественном."
   ]
  },
  {
   "cell_type": "code",
   "execution_count": 18,
   "id": "4a3c52ad-93cf-455d-a84e-e5583d1d1f57",
   "metadata": {},
   "outputs": [],
   "source": [
    "samokat = [34.2, 35.4, 53.2, 37.8, 31.6, 31.4, 35.8, 40.4, 32.4, 29.8, 30.9, \n",
    "           52.5, 44. , 32.3, 39.3, 31.7, 48.3, 34.7, 41.1, 52.3, 38.8, 55.8,\n",
    "           35.4, 32.3, 31.4, 31.6, 33.3, 32.9, 48.9, 39.2]\n",
    "\n",
    "bike = [32.8, 44.3, 29. , 23.5, 26.7, 39. , 36.2, 25.6, 37.9, 36.5, 43.8,\n",
    "        59.7, 37.7, 38.4, 32.1, 28.2, 34.4, 22.1, 12.6, 26.9, 29.9, 55.5,\n",
    "        34.1, 22.4, 25.4, 40. , 22.5, 18.8, 13.6, 34.4]\n",
    "\n",
    "motorbike = [27.8, 38.1, 31.3, 36.6, 33.6, 43.3, 31.1, 31.1, 38.7, 44.9, 43.4,\n",
    "             39.4, 47.9, 32.3, 28.4, 39.9, 38.5, 30.6, 29. , 36.6]\n",
    "\n",
    "public_transport = [36.5, 42.1, 38. , 34.6, 38.5, 36.7, 29.6, 39.4, 32.4, 41.3, 30.1,\n",
    "                    29.5, 33.8, 40.6, 31.3, 31.1, 38.3, 38.6, 28.3, 33.8]"
   ]
  },
  {
   "cell_type": "markdown",
   "id": "d136bcec-b6e5-4470-8ce5-608f45244124",
   "metadata": {},
   "source": [
    "**Решение задачи**"
   ]
  },
  {
   "cell_type": "markdown",
   "id": "476413b6-c3bd-4159-94a8-b2b2428aea14",
   "metadata": {},
   "source": [
    "1. Установим уровень значимости критерия $\\alpha$=5%.\n",
    "2. Нулевая гипотеза - время передвижения на публичном транспорте равно времени передвижения на личном, альтернативная - скорости не равны.\n",
    "3. Будем использовать двувыборочный критерий Манна-Уитни, попарно сравнивая выборки."
   ]
  },
  {
   "cell_type": "code",
   "execution_count": 19,
   "id": "79a2deca-89cd-4db6-a724-75189fac00fa",
   "metadata": {},
   "outputs": [],
   "source": [
    "pvals = []\n",
    "for s in [samokat, bike, motorbike]:\n",
    "    U, p = stats.mannwhitneyu(public_transport, s, alternative='greater')\n",
    "    pvals.append(p)"
   ]
  },
  {
   "cell_type": "code",
   "execution_count": 20,
   "id": "3b4f97c6-14df-4841-97c0-9bf6cac06d03",
   "metadata": {},
   "outputs": [
    {
     "data": {
      "text/plain": [
       "[0.8575808095163361, 0.048099425470081544, 0.6375057571656346]"
      ]
     },
     "execution_count": 20,
     "metadata": {},
     "output_type": "execute_result"
    }
   ],
   "source": [
    "pvals"
   ]
  },
  {
   "cell_type": "markdown",
   "id": "cf0fe003-01cc-4eb2-a8b0-43ae8b71f107",
   "metadata": {},
   "source": [
    "Простое попарное сравнение показало, что можем отвергнуть гипотезу об одинаковой скорости передвижения на велосипеде и общественном транспорте, используем поправку Бонферрони."
   ]
  },
  {
   "cell_type": "code",
   "execution_count": 21,
   "id": "c9a32e0d-8533-455b-89d8-ef71b4b5a2ca",
   "metadata": {},
   "outputs": [],
   "source": [
    "from statsmodels.sandbox.stats.multicomp import multipletests\n",
    "hyp_rej, corrected_pvals, _, _ = multipletests(pvals, alpha=0.05, method='bonferroni')"
   ]
  },
  {
   "cell_type": "code",
   "execution_count": 22,
   "id": "3e4fbf0f-3878-4d39-b1db-f1f967238a8f",
   "metadata": {},
   "outputs": [
    {
     "data": {
      "text/plain": [
       "array([False, False, False])"
      ]
     },
     "execution_count": 22,
     "metadata": {},
     "output_type": "execute_result"
    }
   ],
   "source": [
    "hyp_rej"
   ]
  },
  {
   "cell_type": "markdown",
   "id": "700b748d-99e0-45d7-a987-1ab55d311d44",
   "metadata": {},
   "source": [
    "Вывод: с учётом поправки Бонферрони не можем отклонить ни одну гипотезу о том, что время передвижения на личном транспорте меньше времени передвижения на публичном в пользу альтернативной."
   ]
  }
 ],
 "metadata": {
  "kernelspec": {
   "display_name": "Python 3 (ipykernel)",
   "language": "python",
   "name": "python3"
  },
  "language_info": {
   "codemirror_mode": {
    "name": "ipython",
    "version": 3
   },
   "file_extension": ".py",
   "mimetype": "text/x-python",
   "name": "python",
   "nbconvert_exporter": "python",
   "pygments_lexer": "ipython3",
   "version": "3.11.5"
  },
  "widgets": {
   "application/vnd.jupyter.widget-state+json": {
    "state": {},
    "version_major": 2,
    "version_minor": 0
   }
  }
 },
 "nbformat": 4,
 "nbformat_minor": 5
}
